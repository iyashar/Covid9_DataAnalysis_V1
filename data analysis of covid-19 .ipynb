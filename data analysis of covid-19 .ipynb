{
 "cells": [
  {
   "cell_type": "markdown",
   "id": "4c3b6208",
   "metadata": {},
   "source": [
    "# COVID-19 DATASET"
   ]
  },
  {
   "cell_type": "markdown",
   "id": "3297c417",
   "metadata": {},
   "source": [
    "We have taken a small dataset of covid-19 . The dataset is available in CSV file , downloaded from kaggle .\n",
    "We will analyze the data using pandas DataFrame."
   ]
  },
  {
   "cell_type": "code",
   "execution_count": 1,
   "id": "95d2ed83",
   "metadata": {},
   "outputs": [],
   "source": [
    "import pandas as pd"
   ]
  },
  {
   "cell_type": "code",
   "execution_count": 2,
   "id": "1e2a88e4",
   "metadata": {},
   "outputs": [],
   "source": [
    "df = pd.read_csv(r\"4. covid_19_data.csv\")"
   ]
  },
  {
   "cell_type": "code",
   "execution_count": 3,
   "id": "82e32816",
   "metadata": {},
   "outputs": [
    {
     "data": {
      "text/html": [
       "<div>\n",
       "<style scoped>\n",
       "    .dataframe tbody tr th:only-of-type {\n",
       "        vertical-align: middle;\n",
       "    }\n",
       "\n",
       "    .dataframe tbody tr th {\n",
       "        vertical-align: top;\n",
       "    }\n",
       "\n",
       "    .dataframe thead th {\n",
       "        text-align: right;\n",
       "    }\n",
       "</style>\n",
       "<table border=\"1\" class=\"dataframe\">\n",
       "  <thead>\n",
       "    <tr style=\"text-align: right;\">\n",
       "      <th></th>\n",
       "      <th>Date</th>\n",
       "      <th>State</th>\n",
       "      <th>Region</th>\n",
       "      <th>Confirmed</th>\n",
       "      <th>Deaths</th>\n",
       "      <th>Recovered</th>\n",
       "    </tr>\n",
       "  </thead>\n",
       "  <tbody>\n",
       "    <tr>\n",
       "      <th>0</th>\n",
       "      <td>4/29/2020</td>\n",
       "      <td>NaN</td>\n",
       "      <td>Afghanistan</td>\n",
       "      <td>1939</td>\n",
       "      <td>60</td>\n",
       "      <td>252</td>\n",
       "    </tr>\n",
       "    <tr>\n",
       "      <th>1</th>\n",
       "      <td>4/29/2020</td>\n",
       "      <td>NaN</td>\n",
       "      <td>Albania</td>\n",
       "      <td>766</td>\n",
       "      <td>30</td>\n",
       "      <td>455</td>\n",
       "    </tr>\n",
       "    <tr>\n",
       "      <th>2</th>\n",
       "      <td>4/29/2020</td>\n",
       "      <td>NaN</td>\n",
       "      <td>Algeria</td>\n",
       "      <td>3848</td>\n",
       "      <td>444</td>\n",
       "      <td>1702</td>\n",
       "    </tr>\n",
       "    <tr>\n",
       "      <th>3</th>\n",
       "      <td>4/29/2020</td>\n",
       "      <td>NaN</td>\n",
       "      <td>Andorra</td>\n",
       "      <td>743</td>\n",
       "      <td>42</td>\n",
       "      <td>423</td>\n",
       "    </tr>\n",
       "    <tr>\n",
       "      <th>4</th>\n",
       "      <td>4/29/2020</td>\n",
       "      <td>NaN</td>\n",
       "      <td>Angola</td>\n",
       "      <td>27</td>\n",
       "      <td>2</td>\n",
       "      <td>7</td>\n",
       "    </tr>\n",
       "    <tr>\n",
       "      <th>...</th>\n",
       "      <td>...</td>\n",
       "      <td>...</td>\n",
       "      <td>...</td>\n",
       "      <td>...</td>\n",
       "      <td>...</td>\n",
       "      <td>...</td>\n",
       "    </tr>\n",
       "    <tr>\n",
       "      <th>316</th>\n",
       "      <td>4/29/2020</td>\n",
       "      <td>Wyoming</td>\n",
       "      <td>US</td>\n",
       "      <td>545</td>\n",
       "      <td>7</td>\n",
       "      <td>0</td>\n",
       "    </tr>\n",
       "    <tr>\n",
       "      <th>317</th>\n",
       "      <td>4/29/2020</td>\n",
       "      <td>Xinjiang</td>\n",
       "      <td>Mainland China</td>\n",
       "      <td>76</td>\n",
       "      <td>3</td>\n",
       "      <td>73</td>\n",
       "    </tr>\n",
       "    <tr>\n",
       "      <th>318</th>\n",
       "      <td>4/29/2020</td>\n",
       "      <td>Yukon</td>\n",
       "      <td>Canada</td>\n",
       "      <td>11</td>\n",
       "      <td>0</td>\n",
       "      <td>0</td>\n",
       "    </tr>\n",
       "    <tr>\n",
       "      <th>319</th>\n",
       "      <td>4/29/2020</td>\n",
       "      <td>Yunnan</td>\n",
       "      <td>Mainland China</td>\n",
       "      <td>185</td>\n",
       "      <td>2</td>\n",
       "      <td>181</td>\n",
       "    </tr>\n",
       "    <tr>\n",
       "      <th>320</th>\n",
       "      <td>4/29/2020</td>\n",
       "      <td>Zhejiang</td>\n",
       "      <td>Mainland China</td>\n",
       "      <td>1268</td>\n",
       "      <td>1</td>\n",
       "      <td>1263</td>\n",
       "    </tr>\n",
       "  </tbody>\n",
       "</table>\n",
       "<p>321 rows × 6 columns</p>\n",
       "</div>"
      ],
      "text/plain": [
       "          Date     State          Region  Confirmed  Deaths  Recovered\n",
       "0    4/29/2020       NaN     Afghanistan       1939      60        252\n",
       "1    4/29/2020       NaN         Albania        766      30        455\n",
       "2    4/29/2020       NaN         Algeria       3848     444       1702\n",
       "3    4/29/2020       NaN         Andorra        743      42        423\n",
       "4    4/29/2020       NaN          Angola         27       2          7\n",
       "..         ...       ...             ...        ...     ...        ...\n",
       "316  4/29/2020   Wyoming              US        545       7          0\n",
       "317  4/29/2020  Xinjiang  Mainland China         76       3         73\n",
       "318  4/29/2020     Yukon          Canada         11       0          0\n",
       "319  4/29/2020    Yunnan  Mainland China        185       2        181\n",
       "320  4/29/2020  Zhejiang  Mainland China       1268       1       1263\n",
       "\n",
       "[321 rows x 6 columns]"
      ]
     },
     "execution_count": 3,
     "metadata": {},
     "output_type": "execute_result"
    }
   ],
   "source": [
    "df"
   ]
  },
  {
   "cell_type": "code",
   "execution_count": 4,
   "id": "0dc1a4d8",
   "metadata": {},
   "outputs": [
    {
     "data": {
      "text/plain": [
       "Date         321\n",
       "State        140\n",
       "Region       321\n",
       "Confirmed    321\n",
       "Deaths       321\n",
       "Recovered    321\n",
       "dtype: int64"
      ]
     },
     "execution_count": 4,
     "metadata": {},
     "output_type": "execute_result"
    }
   ],
   "source": [
    "df.count()"
   ]
  },
  {
   "cell_type": "markdown",
   "id": "232121c3",
   "metadata": {},
   "source": [
    "There are some null values in State column"
   ]
  },
  {
   "cell_type": "code",
   "execution_count": 5,
   "id": "323e5c81",
   "metadata": {},
   "outputs": [
    {
     "data": {
      "text/plain": [
       "Date           0\n",
       "State        181\n",
       "Region         0\n",
       "Confirmed      0\n",
       "Deaths         0\n",
       "Recovered      0\n",
       "dtype: int64"
      ]
     },
     "execution_count": 5,
     "metadata": {},
     "output_type": "execute_result"
    }
   ],
   "source": [
    "df.isnull().sum()"
   ]
  },
  {
   "cell_type": "markdown",
   "id": "36a34249",
   "metadata": {},
   "source": [
    "### Importing seaborn and matplotlib for data visulazation"
   ]
  },
  {
   "cell_type": "code",
   "execution_count": 6,
   "id": "7458cde4",
   "metadata": {},
   "outputs": [],
   "source": [
    "import seaborn as sns\n",
    "import matplotlib.pyplot as plt \n"
   ]
  },
  {
   "cell_type": "code",
   "execution_count": 7,
   "id": "dc6af380",
   "metadata": {},
   "outputs": [
    {
     "data": {
      "text/plain": [
       "<AxesSubplot: >"
      ]
     },
     "execution_count": 7,
     "metadata": {},
     "output_type": "execute_result"
    },
    {
     "data": {
      "image/png": "[encoded data removed]",
      "text/plain": [
       "<Figure size 640x480 with 2 Axes>"
      ]
     },
     "metadata": {},
     "output_type": "display_data"
    }
   ],
   "source": [
    "sns.heatmap(df.isnull())"
   ]
  },
  {
   "cell_type": "markdown",
   "id": "6535cabc",
   "metadata": {},
   "source": [
    "from above graph the whitish portion is for null values"
   ]
  },
  {
   "cell_type": "code",
   "execution_count": 46,
   "id": "6b43ccab",
   "metadata": {},
   "outputs": [
    {
     "data": {
      "text/plain": [
       "<seaborn.axisgrid.PairGrid at 0x2a35bae7dc0>"
      ]
     },
     "execution_count": 46,
     "metadata": {},
     "output_type": "execute_result"
    },
    {
     "data": {
      "image/png": "[encoded data removed]",
      "text/plain": [
       "<Figure size 750x750 with 9 Axes>"
      ]
     },
     "metadata": {},
     "output_type": "display_data"
    }
   ],
   "source": [
    "g = sns.PairGrid(df)\n",
    "g.map(sns.scatterplot)"
   ]
  },
  {
   "cell_type": "markdown",
   "id": "f59fb9f4",
   "metadata": {},
   "source": [
    "### 1. Show the number of Confirmed, Deaths and Recovered cases in each Region."
   ]
  },
  {
   "cell_type": "code",
   "execution_count": 20,
   "id": "130b7fd5",
   "metadata": {},
   "outputs": [
    {
     "data": {
      "text/html": [
       "<div>\n",
       "<style scoped>\n",
       "    .dataframe tbody tr th:only-of-type {\n",
       "        vertical-align: middle;\n",
       "    }\n",
       "\n",
       "    .dataframe tbody tr th {\n",
       "        vertical-align: top;\n",
       "    }\n",
       "\n",
       "    .dataframe thead th {\n",
       "        text-align: right;\n",
       "    }\n",
       "</style>\n",
       "<table border=\"1\" class=\"dataframe\">\n",
       "  <thead>\n",
       "    <tr style=\"text-align: right;\">\n",
       "      <th></th>\n",
       "      <th>Confirmed</th>\n",
       "      <th>Deaths</th>\n",
       "      <th>Recovered</th>\n",
       "    </tr>\n",
       "    <tr>\n",
       "      <th>Region</th>\n",
       "      <th></th>\n",
       "      <th></th>\n",
       "      <th></th>\n",
       "    </tr>\n",
       "  </thead>\n",
       "  <tbody>\n",
       "    <tr>\n",
       "      <th>Afghanistan</th>\n",
       "      <td>1939</td>\n",
       "      <td>60</td>\n",
       "      <td>252</td>\n",
       "    </tr>\n",
       "    <tr>\n",
       "      <th>Albania</th>\n",
       "      <td>766</td>\n",
       "      <td>30</td>\n",
       "      <td>455</td>\n",
       "    </tr>\n",
       "    <tr>\n",
       "      <th>Algeria</th>\n",
       "      <td>3848</td>\n",
       "      <td>444</td>\n",
       "      <td>1702</td>\n",
       "    </tr>\n",
       "    <tr>\n",
       "      <th>Andorra</th>\n",
       "      <td>743</td>\n",
       "      <td>42</td>\n",
       "      <td>423</td>\n",
       "    </tr>\n",
       "    <tr>\n",
       "      <th>Angola</th>\n",
       "      <td>27</td>\n",
       "      <td>2</td>\n",
       "      <td>7</td>\n",
       "    </tr>\n",
       "    <tr>\n",
       "      <th>...</th>\n",
       "      <td>...</td>\n",
       "      <td>...</td>\n",
       "      <td>...</td>\n",
       "    </tr>\n",
       "    <tr>\n",
       "      <th>West Bank and Gaza</th>\n",
       "      <td>344</td>\n",
       "      <td>2</td>\n",
       "      <td>71</td>\n",
       "    </tr>\n",
       "    <tr>\n",
       "      <th>Western Sahara</th>\n",
       "      <td>6</td>\n",
       "      <td>0</td>\n",
       "      <td>5</td>\n",
       "    </tr>\n",
       "    <tr>\n",
       "      <th>Yemen</th>\n",
       "      <td>6</td>\n",
       "      <td>0</td>\n",
       "      <td>1</td>\n",
       "    </tr>\n",
       "    <tr>\n",
       "      <th>Zambia</th>\n",
       "      <td>97</td>\n",
       "      <td>3</td>\n",
       "      <td>54</td>\n",
       "    </tr>\n",
       "    <tr>\n",
       "      <th>Zimbabwe</th>\n",
       "      <td>32</td>\n",
       "      <td>4</td>\n",
       "      <td>5</td>\n",
       "    </tr>\n",
       "  </tbody>\n",
       "</table>\n",
       "<p>187 rows × 3 columns</p>\n",
       "</div>"
      ],
      "text/plain": [
       "                    Confirmed  Deaths  Recovered\n",
       "Region                                          \n",
       "Afghanistan              1939      60        252\n",
       "Albania                   766      30        455\n",
       "Algeria                  3848     444       1702\n",
       "Andorra                   743      42        423\n",
       "Angola                     27       2          7\n",
       "...                       ...     ...        ...\n",
       "West Bank and Gaza        344       2         71\n",
       "Western Sahara              6       0          5\n",
       "Yemen                       6       0          1\n",
       "Zambia                     97       3         54\n",
       "Zimbabwe                   32       4          5\n",
       "\n",
       "[187 rows x 3 columns]"
      ]
     },
     "execution_count": 20,
     "metadata": {},
     "output_type": "execute_result"
    }
   ],
   "source": [
    "df.groupby('Region').sum()"
   ]
  },
  {
   "cell_type": "markdown",
   "id": "b37ca961",
   "metadata": {},
   "source": [
    "#### Checking which country has highest confirmed cases"
   ]
  },
  {
   "cell_type": "code",
   "execution_count": 22,
   "id": "f92e7acf",
   "metadata": {},
   "outputs": [
    {
     "data": {
      "text/plain": [
       "Region\n",
       "US                       1039909\n",
       "Spain                     236899\n",
       "Italy                     203591\n",
       "France                    166543\n",
       "UK                        166441\n",
       "                          ...   \n",
       "Sao Tome and Principe          8\n",
       "Papua New Guinea               8\n",
       "Bhutan                         7\n",
       "Western Sahara                 6\n",
       "Yemen                          6\n",
       "Name: Confirmed, Length: 187, dtype: int64"
      ]
     },
     "execution_count": 22,
     "metadata": {},
     "output_type": "execute_result"
    }
   ],
   "source": [
    "df.groupby('Region')['Confirmed'].sum().sort_values(ascending = False)"
   ]
  },
  {
   "cell_type": "markdown",
   "id": "1a3e7443",
   "metadata": {},
   "source": [
    "'sort_values()' is used in above data frame to show it in descendig order"
   ]
  },
  {
   "cell_type": "markdown",
   "id": "8c6db014",
   "metadata": {},
   "source": [
    "#### US has highest number of infection followed by Spain,Italy and France"
   ]
  },
  {
   "cell_type": "code",
   "execution_count": 25,
   "id": "df90e2e4",
   "metadata": {},
   "outputs": [
    {
     "name": "stderr",
     "output_type": "stream",
     "text": [
      "C:\\Users\\utsha\\AppData\\Local\\Temp\\ipykernel_2480\\106003874.py:1: FutureWarning: Indexing with multiple keys (implicitly converted to a tuple of keys) will be deprecated, use a list instead.\n",
      "  df.groupby('Region')['Confirmed','Recovered'].sum()\n"
     ]
    },
    {
     "data": {
      "text/html": [
       "<div>\n",
       "<style scoped>\n",
       "    .dataframe tbody tr th:only-of-type {\n",
       "        vertical-align: middle;\n",
       "    }\n",
       "\n",
       "    .dataframe tbody tr th {\n",
       "        vertical-align: top;\n",
       "    }\n",
       "\n",
       "    .dataframe thead th {\n",
       "        text-align: right;\n",
       "    }\n",
       "</style>\n",
       "<table border=\"1\" class=\"dataframe\">\n",
       "  <thead>\n",
       "    <tr style=\"text-align: right;\">\n",
       "      <th></th>\n",
       "      <th>Confirmed</th>\n",
       "      <th>Recovered</th>\n",
       "    </tr>\n",
       "    <tr>\n",
       "      <th>Region</th>\n",
       "      <th></th>\n",
       "      <th></th>\n",
       "    </tr>\n",
       "  </thead>\n",
       "  <tbody>\n",
       "    <tr>\n",
       "      <th>Afghanistan</th>\n",
       "      <td>1939</td>\n",
       "      <td>252</td>\n",
       "    </tr>\n",
       "    <tr>\n",
       "      <th>Albania</th>\n",
       "      <td>766</td>\n",
       "      <td>455</td>\n",
       "    </tr>\n",
       "    <tr>\n",
       "      <th>Algeria</th>\n",
       "      <td>3848</td>\n",
       "      <td>1702</td>\n",
       "    </tr>\n",
       "    <tr>\n",
       "      <th>Andorra</th>\n",
       "      <td>743</td>\n",
       "      <td>423</td>\n",
       "    </tr>\n",
       "    <tr>\n",
       "      <th>Angola</th>\n",
       "      <td>27</td>\n",
       "      <td>7</td>\n",
       "    </tr>\n",
       "    <tr>\n",
       "      <th>...</th>\n",
       "      <td>...</td>\n",
       "      <td>...</td>\n",
       "    </tr>\n",
       "    <tr>\n",
       "      <th>West Bank and Gaza</th>\n",
       "      <td>344</td>\n",
       "      <td>71</td>\n",
       "    </tr>\n",
       "    <tr>\n",
       "      <th>Western Sahara</th>\n",
       "      <td>6</td>\n",
       "      <td>5</td>\n",
       "    </tr>\n",
       "    <tr>\n",
       "      <th>Yemen</th>\n",
       "      <td>6</td>\n",
       "      <td>1</td>\n",
       "    </tr>\n",
       "    <tr>\n",
       "      <th>Zambia</th>\n",
       "      <td>97</td>\n",
       "      <td>54</td>\n",
       "    </tr>\n",
       "    <tr>\n",
       "      <th>Zimbabwe</th>\n",
       "      <td>32</td>\n",
       "      <td>5</td>\n",
       "    </tr>\n",
       "  </tbody>\n",
       "</table>\n",
       "<p>187 rows × 2 columns</p>\n",
       "</div>"
      ],
      "text/plain": [
       "                    Confirmed  Recovered\n",
       "Region                                  \n",
       "Afghanistan              1939        252\n",
       "Albania                   766        455\n",
       "Algeria                  3848       1702\n",
       "Andorra                   743        423\n",
       "Angola                     27          7\n",
       "...                       ...        ...\n",
       "West Bank and Gaza        344         71\n",
       "Western Sahara              6          5\n",
       "Yemen                       6          1\n",
       "Zambia                     97         54\n",
       "Zimbabwe                   32          5\n",
       "\n",
       "[187 rows x 2 columns]"
      ]
     },
     "execution_count": 25,
     "metadata": {},
     "output_type": "execute_result"
    }
   ],
   "source": [
    "df.groupby('Region')['Confirmed','Recovered'].sum()"
   ]
  },
  {
   "cell_type": "markdown",
   "id": "a34b1bf7",
   "metadata": {},
   "source": [
    "### 2. Remove all the records where the Confirmed Cases is Less Than 10."
   ]
  },
  {
   "cell_type": "code",
   "execution_count": 32,
   "id": "18ecca11",
   "metadata": {},
   "outputs": [],
   "source": [
    "df = df[~(df['Confirmed'] < 10 )]      #to remove any conditions from dataFrame\n"
   ]
  },
  {
   "cell_type": "code",
   "execution_count": 33,
   "id": "2e940554",
   "metadata": {},
   "outputs": [
    {
     "data": {
      "text/html": [
       "<div>\n",
       "<style scoped>\n",
       "    .dataframe tbody tr th:only-of-type {\n",
       "        vertical-align: middle;\n",
       "    }\n",
       "\n",
       "    .dataframe tbody tr th {\n",
       "        vertical-align: top;\n",
       "    }\n",
       "\n",
       "    .dataframe thead th {\n",
       "        text-align: right;\n",
       "    }\n",
       "</style>\n",
       "<table border=\"1\" class=\"dataframe\">\n",
       "  <thead>\n",
       "    <tr style=\"text-align: right;\">\n",
       "      <th></th>\n",
       "      <th>Date</th>\n",
       "      <th>State</th>\n",
       "      <th>Region</th>\n",
       "      <th>Confirmed</th>\n",
       "      <th>Deaths</th>\n",
       "      <th>Recovered</th>\n",
       "    </tr>\n",
       "  </thead>\n",
       "  <tbody>\n",
       "    <tr>\n",
       "      <th>0</th>\n",
       "      <td>4/29/2020</td>\n",
       "      <td>NaN</td>\n",
       "      <td>Afghanistan</td>\n",
       "      <td>1939</td>\n",
       "      <td>60</td>\n",
       "      <td>252</td>\n",
       "    </tr>\n",
       "    <tr>\n",
       "      <th>1</th>\n",
       "      <td>4/29/2020</td>\n",
       "      <td>NaN</td>\n",
       "      <td>Albania</td>\n",
       "      <td>766</td>\n",
       "      <td>30</td>\n",
       "      <td>455</td>\n",
       "    </tr>\n",
       "    <tr>\n",
       "      <th>2</th>\n",
       "      <td>4/29/2020</td>\n",
       "      <td>NaN</td>\n",
       "      <td>Algeria</td>\n",
       "      <td>3848</td>\n",
       "      <td>444</td>\n",
       "      <td>1702</td>\n",
       "    </tr>\n",
       "    <tr>\n",
       "      <th>3</th>\n",
       "      <td>4/29/2020</td>\n",
       "      <td>NaN</td>\n",
       "      <td>Andorra</td>\n",
       "      <td>743</td>\n",
       "      <td>42</td>\n",
       "      <td>423</td>\n",
       "    </tr>\n",
       "    <tr>\n",
       "      <th>4</th>\n",
       "      <td>4/29/2020</td>\n",
       "      <td>NaN</td>\n",
       "      <td>Angola</td>\n",
       "      <td>27</td>\n",
       "      <td>2</td>\n",
       "      <td>7</td>\n",
       "    </tr>\n",
       "    <tr>\n",
       "      <th>...</th>\n",
       "      <td>...</td>\n",
       "      <td>...</td>\n",
       "      <td>...</td>\n",
       "      <td>...</td>\n",
       "      <td>...</td>\n",
       "      <td>...</td>\n",
       "    </tr>\n",
       "    <tr>\n",
       "      <th>316</th>\n",
       "      <td>4/29/2020</td>\n",
       "      <td>Wyoming</td>\n",
       "      <td>US</td>\n",
       "      <td>545</td>\n",
       "      <td>7</td>\n",
       "      <td>0</td>\n",
       "    </tr>\n",
       "    <tr>\n",
       "      <th>317</th>\n",
       "      <td>4/29/2020</td>\n",
       "      <td>Xinjiang</td>\n",
       "      <td>Mainland China</td>\n",
       "      <td>76</td>\n",
       "      <td>3</td>\n",
       "      <td>73</td>\n",
       "    </tr>\n",
       "    <tr>\n",
       "      <th>318</th>\n",
       "      <td>4/29/2020</td>\n",
       "      <td>Yukon</td>\n",
       "      <td>Canada</td>\n",
       "      <td>11</td>\n",
       "      <td>0</td>\n",
       "      <td>0</td>\n",
       "    </tr>\n",
       "    <tr>\n",
       "      <th>319</th>\n",
       "      <td>4/29/2020</td>\n",
       "      <td>Yunnan</td>\n",
       "      <td>Mainland China</td>\n",
       "      <td>185</td>\n",
       "      <td>2</td>\n",
       "      <td>181</td>\n",
       "    </tr>\n",
       "    <tr>\n",
       "      <th>320</th>\n",
       "      <td>4/29/2020</td>\n",
       "      <td>Zhejiang</td>\n",
       "      <td>Mainland China</td>\n",
       "      <td>1268</td>\n",
       "      <td>1</td>\n",
       "      <td>1263</td>\n",
       "    </tr>\n",
       "  </tbody>\n",
       "</table>\n",
       "<p>304 rows × 6 columns</p>\n",
       "</div>"
      ],
      "text/plain": [
       "          Date     State          Region  Confirmed  Deaths  Recovered\n",
       "0    4/29/2020       NaN     Afghanistan       1939      60        252\n",
       "1    4/29/2020       NaN         Albania        766      30        455\n",
       "2    4/29/2020       NaN         Algeria       3848     444       1702\n",
       "3    4/29/2020       NaN         Andorra        743      42        423\n",
       "4    4/29/2020       NaN          Angola         27       2          7\n",
       "..         ...       ...             ...        ...     ...        ...\n",
       "316  4/29/2020   Wyoming              US        545       7          0\n",
       "317  4/29/2020  Xinjiang  Mainland China         76       3         73\n",
       "318  4/29/2020     Yukon          Canada         11       0          0\n",
       "319  4/29/2020    Yunnan  Mainland China        185       2        181\n",
       "320  4/29/2020  Zhejiang  Mainland China       1268       1       1263\n",
       "\n",
       "[304 rows x 6 columns]"
      ]
     },
     "execution_count": 33,
     "metadata": {},
     "output_type": "execute_result"
    }
   ],
   "source": [
    "df"
   ]
  },
  {
   "cell_type": "code",
   "execution_count": 12,
   "id": "3c4ffa4b",
   "metadata": {},
   "outputs": [
    {
     "name": "stdout",
     "output_type": "stream",
     "text": [
      "<class 'pandas.core.frame.DataFrame'>\n",
      "Int64Index: 8 entries, 57 to 265\n",
      "Data columns (total 6 columns):\n",
      " #   Column     Non-Null Count  Dtype \n",
      "---  ------     --------------  ----- \n",
      " 0   Date       8 non-null      object\n",
      " 1   State      2 non-null      object\n",
      " 2   Region     8 non-null      object\n",
      " 3   Confirmed  8 non-null      int64 \n",
      " 4   Deaths     8 non-null      int64 \n",
      " 5   Recovered  8 non-null      int64 \n",
      "dtypes: int64(3), object(3)\n",
      "memory usage: 448.0+ bytes\n"
     ]
    }
   ],
   "source": [
    "df2 = df[~(df['Confirmed'] < 100000 )] \n",
    "df2.info()"
   ]
  },
  {
   "cell_type": "code",
   "execution_count": 13,
   "id": "34272ea7",
   "metadata": {},
   "outputs": [
    {
     "data": {
      "text/plain": [
       "<seaborn.axisgrid.PairGrid at 0x1c11cff9760>"
      ]
     },
     "execution_count": 13,
     "metadata": {},
     "output_type": "execute_result"
    },
    {
     "data": {
      "image/png": "[encoded data removed]",
      "text/plain": [
       "<Figure size 863.875x750 with 12 Axes>"
      ]
     },
     "metadata": {},
     "output_type": "display_data"
    }
   ],
   "source": [
    "g = sns.PairGrid(df2, hue=\"Region\")\n",
    "g.map_diag(sns.histplot)\n",
    "g.map_offdiag(sns.scatterplot)\n",
    "g.add_legend()"
   ]
  },
  {
   "cell_type": "markdown",
   "id": "a82c4c33",
   "metadata": {},
   "source": [
    "### 3. In which Region, maximum number of Confirmed cases were recorded ?"
   ]
  },
  {
   "cell_type": "code",
   "execution_count": 14,
   "id": "f0943bcd",
   "metadata": {},
   "outputs": [
    {
     "data": {
      "text/plain": [
       "Region\n",
       "US    1039909\n",
       "Name: Confirmed, dtype: int64"
      ]
     },
     "execution_count": 14,
     "metadata": {},
     "output_type": "execute_result"
    }
   ],
   "source": [
    "df.groupby('Region')['Confirmed'].sum().sort_values(ascending = False).head(1)"
   ]
  },
  {
   "cell_type": "markdown",
   "id": "05b36411",
   "metadata": {},
   "source": [
    "Above are the ten countries that recorded most number of covid cases"
   ]
  },
  {
   "cell_type": "markdown",
   "id": "85af33e8",
   "metadata": {},
   "source": [
    "### 4.In which Region, minimum number of Deaths cases were recorded ?"
   ]
  },
  {
   "cell_type": "code",
   "execution_count": 42,
   "id": "bdd8a719",
   "metadata": {},
   "outputs": [
    {
     "data": {
      "text/plain": [
       "Region\n",
       "Cambodia                            0\n",
       "Seychelles                          0\n",
       "Saint Lucia                         0\n",
       "Central African Republic            0\n",
       "Saint Kitts and Nevis               0\n",
       "South Sudan                         0\n",
       "Rwanda                              0\n",
       "Grenada                             0\n",
       "Macau                               0\n",
       "Madagascar                          0\n",
       "Nepal                               0\n",
       "Namibia                             0\n",
       "Saint Vincent and the Grenadines    0\n",
       "Mozambique                          0\n",
       "Holy See                            0\n",
       "Timor-Leste                         0\n",
       "Mongolia                            0\n",
       "Uganda                              0\n",
       "Laos                                0\n",
       "Eritrea                             0\n",
       "Vietnam                             0\n",
       "Fiji                                0\n",
       "Dominica                            0\n",
       "Gambia                              1\n",
       "Equatorial Guinea                   1\n",
       "Eswatini                            1\n",
       "Cabo Verde                          1\n",
       "Maldives                            1\n",
       "Guinea-Bissau                       1\n",
       "Liechtenstein                       1\n",
       "Name: Deaths, dtype: int64"
      ]
     },
     "execution_count": 42,
     "metadata": {},
     "output_type": "execute_result"
    }
   ],
   "source": [
    "df.groupby('Region')['Deaths'].sum().sort_values().head(30)"
   ]
  },
  {
   "cell_type": "markdown",
   "id": "4e82c056",
   "metadata": {},
   "source": [
    "### 3.How many Confirmed, Deaths & Recovered cases were reported from India till 29 April 2020 ?"
   ]
  },
  {
   "cell_type": "code",
   "execution_count": 46,
   "id": "8f93d16b",
   "metadata": {},
   "outputs": [
    {
     "data": {
      "text/html": [
       "<div>\n",
       "<style scoped>\n",
       "    .dataframe tbody tr th:only-of-type {\n",
       "        vertical-align: middle;\n",
       "    }\n",
       "\n",
       "    .dataframe tbody tr th {\n",
       "        vertical-align: top;\n",
       "    }\n",
       "\n",
       "    .dataframe thead th {\n",
       "        text-align: right;\n",
       "    }\n",
       "</style>\n",
       "<table border=\"1\" class=\"dataframe\">\n",
       "  <thead>\n",
       "    <tr style=\"text-align: right;\">\n",
       "      <th></th>\n",
       "      <th>Date</th>\n",
       "      <th>State</th>\n",
       "      <th>Region</th>\n",
       "      <th>Confirmed</th>\n",
       "      <th>Deaths</th>\n",
       "      <th>Recovered</th>\n",
       "    </tr>\n",
       "  </thead>\n",
       "  <tbody>\n",
       "    <tr>\n",
       "      <th>74</th>\n",
       "      <td>4/29/2020</td>\n",
       "      <td>NaN</td>\n",
       "      <td>India</td>\n",
       "      <td>33062</td>\n",
       "      <td>1079</td>\n",
       "      <td>8437</td>\n",
       "    </tr>\n",
       "  </tbody>\n",
       "</table>\n",
       "</div>"
      ],
      "text/plain": [
       "         Date State Region  Confirmed  Deaths  Recovered\n",
       "74  4/29/2020   NaN  India      33062    1079       8437"
      ]
     },
     "execution_count": 46,
     "metadata": {},
     "output_type": "execute_result"
    }
   ],
   "source": [
    "df[df['Region'] == 'India']"
   ]
  },
  {
   "cell_type": "markdown",
   "id": "f292aae7",
   "metadata": {},
   "source": [
    "### 6.Sort the entire data wrt No. of Confirmed cases in ascending order."
   ]
  },
  {
   "cell_type": "code",
   "execution_count": 48,
   "id": "67eaa232",
   "metadata": {},
   "outputs": [
    {
     "data": {
      "text/html": [
       "<div>\n",
       "<style scoped>\n",
       "    .dataframe tbody tr th:only-of-type {\n",
       "        vertical-align: middle;\n",
       "    }\n",
       "\n",
       "    .dataframe tbody tr th {\n",
       "        vertical-align: top;\n",
       "    }\n",
       "\n",
       "    .dataframe thead th {\n",
       "        text-align: right;\n",
       "    }\n",
       "</style>\n",
       "<table border=\"1\" class=\"dataframe\">\n",
       "  <thead>\n",
       "    <tr style=\"text-align: right;\">\n",
       "      <th></th>\n",
       "      <th>Date</th>\n",
       "      <th>State</th>\n",
       "      <th>Region</th>\n",
       "      <th>Confirmed</th>\n",
       "      <th>Deaths</th>\n",
       "      <th>Recovered</th>\n",
       "    </tr>\n",
       "  </thead>\n",
       "  <tbody>\n",
       "    <tr>\n",
       "      <th>156</th>\n",
       "      <td>4/29/2020</td>\n",
       "      <td>NaN</td>\n",
       "      <td>Suriname</td>\n",
       "      <td>10</td>\n",
       "      <td>1</td>\n",
       "      <td>8</td>\n",
       "    </tr>\n",
       "    <tr>\n",
       "      <th>70</th>\n",
       "      <td>4/29/2020</td>\n",
       "      <td>NaN</td>\n",
       "      <td>Holy See</td>\n",
       "      <td>10</td>\n",
       "      <td>0</td>\n",
       "      <td>2</td>\n",
       "    </tr>\n",
       "    <tr>\n",
       "      <th>59</th>\n",
       "      <td>4/29/2020</td>\n",
       "      <td>NaN</td>\n",
       "      <td>Gambia</td>\n",
       "      <td>10</td>\n",
       "      <td>1</td>\n",
       "      <td>8</td>\n",
       "    </tr>\n",
       "    <tr>\n",
       "      <th>318</th>\n",
       "      <td>4/29/2020</td>\n",
       "      <td>Yukon</td>\n",
       "      <td>Canada</td>\n",
       "      <td>11</td>\n",
       "      <td>0</td>\n",
       "      <td>0</td>\n",
       "    </tr>\n",
       "    <tr>\n",
       "      <th>217</th>\n",
       "      <td>4/29/2020</td>\n",
       "      <td>Greenland</td>\n",
       "      <td>Denmark</td>\n",
       "      <td>11</td>\n",
       "      <td>0</td>\n",
       "      <td>11</td>\n",
       "    </tr>\n",
       "    <tr>\n",
       "      <th>...</th>\n",
       "      <td>...</td>\n",
       "      <td>...</td>\n",
       "      <td>...</td>\n",
       "      <td>...</td>\n",
       "      <td>...</td>\n",
       "      <td>...</td>\n",
       "    </tr>\n",
       "    <tr>\n",
       "      <th>57</th>\n",
       "      <td>4/29/2020</td>\n",
       "      <td>NaN</td>\n",
       "      <td>France</td>\n",
       "      <td>165093</td>\n",
       "      <td>24087</td>\n",
       "      <td>48228</td>\n",
       "    </tr>\n",
       "    <tr>\n",
       "      <th>168</th>\n",
       "      <td>4/29/2020</td>\n",
       "      <td>NaN</td>\n",
       "      <td>UK</td>\n",
       "      <td>165221</td>\n",
       "      <td>26097</td>\n",
       "      <td>0</td>\n",
       "    </tr>\n",
       "    <tr>\n",
       "      <th>80</th>\n",
       "      <td>4/29/2020</td>\n",
       "      <td>NaN</td>\n",
       "      <td>Italy</td>\n",
       "      <td>203591</td>\n",
       "      <td>27682</td>\n",
       "      <td>71252</td>\n",
       "    </tr>\n",
       "    <tr>\n",
       "      <th>153</th>\n",
       "      <td>4/29/2020</td>\n",
       "      <td>NaN</td>\n",
       "      <td>Spain</td>\n",
       "      <td>236899</td>\n",
       "      <td>24275</td>\n",
       "      <td>132929</td>\n",
       "    </tr>\n",
       "    <tr>\n",
       "      <th>265</th>\n",
       "      <td>4/29/2020</td>\n",
       "      <td>New York</td>\n",
       "      <td>US</td>\n",
       "      <td>299691</td>\n",
       "      <td>23477</td>\n",
       "      <td>0</td>\n",
       "    </tr>\n",
       "  </tbody>\n",
       "</table>\n",
       "<p>304 rows × 6 columns</p>\n",
       "</div>"
      ],
      "text/plain": [
       "          Date      State    Region  Confirmed  Deaths  Recovered\n",
       "156  4/29/2020        NaN  Suriname         10       1          8\n",
       "70   4/29/2020        NaN  Holy See         10       0          2\n",
       "59   4/29/2020        NaN    Gambia         10       1          8\n",
       "318  4/29/2020      Yukon    Canada         11       0          0\n",
       "217  4/29/2020  Greenland   Denmark         11       0         11\n",
       "..         ...        ...       ...        ...     ...        ...\n",
       "57   4/29/2020        NaN    France     165093   24087      48228\n",
       "168  4/29/2020        NaN        UK     165221   26097          0\n",
       "80   4/29/2020        NaN     Italy     203591   27682      71252\n",
       "153  4/29/2020        NaN     Spain     236899   24275     132929\n",
       "265  4/29/2020   New York        US     299691   23477          0\n",
       "\n",
       "[304 rows x 6 columns]"
      ]
     },
     "execution_count": 48,
     "metadata": {},
     "output_type": "execute_result"
    }
   ],
   "source": [
    "df.sort_values(by = ['Confirmed'], ascending = True)"
   ]
  }
 ],
 "metadata": {
  "kernelspec": {
   "display_name": "Python 3 (ipykernel)",
   "language": "python",
   "name": "python3"
  },
  "language_info": {
   "codemirror_mode": {
    "name": "ipython",
    "version": 3
   },
   "file_extension": ".py",
   "mimetype": "text/x-python",
   "name": "python",
   "nbconvert_exporter": "python",
   "pygments_lexer": "ipython3",
   "version": "3.8.15"
  }
 },
 "nbformat": 4,
 "nbformat_minor": 5
}
